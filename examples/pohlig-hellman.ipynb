{
 "cells": [
  {
   "cell_type": "markdown",
   "id": "7835599d",
   "metadata": {},
   "source": [
    "---\n",
    "title: \"PARI/GP in OCaml: Implementing and Testing a Modular Discrete Log Solver\"\n",
    "description: \"I'll demonstrate how to use OCaml bindings to the [PARI/GP](https://pari.math.u-bordeaux.fr/) number theory library I've written.\"\n",
    "date: \"12/23/2023\"\n",
    "categories:\n",
    "  - ocaml\n",
    "  - algebra\n",
    "---"
   ]
  },
  {
   "cell_type": "markdown",
   "id": "634450dc",
   "metadata": {},
   "source": [
    "# Overview\n",
    "\n",
    "This notebook aims to showcase how functional programming and property-based testing allow for readable and correct numerical algorithms, using the [PARI/GP](https://pari.math.u-bordeaux.fr/) number theory package. In particular, it aims to demonstrate the effectiveness of [strong static typing](https://en.wikipedia.org/wiki/Strong_and_weak_typing) to avoid invalid operations between incompatible values, [polymorphic types](https://www.cs.princeton.edu/~dpw/courses/cos326-12/notes/polymorphism.php) for writing generic algorithms, [higher-order functions](https://v2.ocaml.org/releases/5.1/manual/coreexamples.html#s%3Afunctions-as-values) for composing algorithms, and type inference to avoid cluttering code with complex types. You can download the notebook, and run it on your end using the [OCaml Jupyter kernel](https://github.com/akabe/ocaml-jupyter) as well as installing the following OCaml libraries:\n",
    "\n",
    "* [pari](https://ocaml.org/p/pari/latest): bindings to PARI/GP\n",
    "* [iter](https://ocaml.org/p/iter/latest): functions to iterate on collections, we'll use this to write loops in the functional style\n",
    "* [hacl-star](https://ocaml.org/p/hacl-star/latest): we'll use the hash function SHA3 from the HACL* project\n",
    "* [qcheck](https://ocaml.org/p/qcheck/latest): property-based testing library\n",
    "\n",
    "(With [OPAM](https://opam.ocaml.org/): `opam install pari iter hacl-star qcheck`.)\n",
    "\n",
    "# Why OCaml?\n",
    "Currently, one can use the GP scripting language or [Python bindings](https://github.com/sagemath/cypari2) to PARI, the latter being used by [Sagemath](https://www.sagemath.org/). A drawback is that the C, GP, and Python APIs are loosely typed, allowing syntactically correct but semantically incorrect mathematical operations, though runtime exceptions can sometimes occur in such instances. By contrast, the OCaml bindings add a thin layer of static typing to prevent such invalid operations by giving precise domains to the functions. Moreover, static types can help document functions, to better understand how to use them: it is not clear how to compute the [Smith Normal Form of a matrix with number field coefficients](https://pari.math.u-bordeaux.fr/dochtml/html-stable/General_number_fields.html#nfsnf) from the documentation, for example. More generally, OCaml is a high-level language with decent performance focusing on correctness and grounded in mathematical formalism (lambda calculus), making it quite appealing in the context of mathematical algorithms."
   ]
  },
  {
   "cell_type": "markdown",
   "id": "55af3dc2",
   "metadata": {},
   "source": [
    "# Case Study: Implementing a Modular Discrete Log Solver\n",
    "\n",
    "## The Pohlig-Hellman algorithm"
   ]
  },
  {
   "cell_type": "code",
   "execution_count": 15,
   "id": "bff150b5-69b7-4a01-a45d-eb66628f91fc",
   "metadata": {
    "vscode": {
     "languageId": "ocaml"
    }
   },
   "outputs": [],
   "source": [
    "#require \"pari,iter,hacl-star,qcheck\""
   ]
  },
  {
   "cell_type": "markdown",
   "id": "9aadebf4",
   "metadata": {},
   "source": [
    "First, we'll import and put all functions from the PARI library into scope:"
   ]
  },
  {
   "cell_type": "code",
   "execution_count": 16,
   "id": "2f9095d4-6376-44a1-a13b-af2efa9a634c",
   "metadata": {
    "vscode": {
     "languageId": "ocaml"
    }
   },
   "outputs": [
    {
     "data": {
      "text/plain": [
       "val clean_stack : (unit -> 'a) -> unit = <fun>\n"
      ]
     },
     "execution_count": 16,
     "metadata": {},
     "output_type": "execute_result"
    }
   ],
   "source": [
    "open Pari\n",
    "\n",
    "(* This line is mandatory to initialize the PARI stack, heap,\n",
    "   table of primes... *)\n",
    "let () = pari_init 2_000_000_000 (Unsigned.ULong.of_int 500_000)\n",
    "\n",
    "(* Computes f() then resets the stack pointer to its original state,\n",
    "   freeing up memory. *)\n",
    "let clean_stack f = let sp = get_avma () in let _ = f () in set_avma sp"
   ]
  },
  {
   "cell_type": "markdown",
   "id": "b5afe1a8",
   "metadata": {},
   "source": [
    "The [Pohlig-Hellman algorithm](https://en.wikipedia.org/wiki/Pohlig%E2%80%93Hellman_algorithm) is a divide-and-conquer algorithm that solves discrete logarithms on finite abelian groups by taking advantage of the smoothness of their orders. It breaks down the computation of a discrete logarithm into projections in the subgroups, then recombines the logarithms of the projections using the Chinese Remainder Theorem.\n",
    "\n",
    "The algorithm handles the computation of discrete logarithms in subgroups of prime power order [a little differently](https://en.wikipedia.org/wiki/Pohlig%E2%80%93Hellman_algorithm#Groups_of_prime-power_order). We let the subroutine `dlp_solve_prime` fail with `None` (for instance if no discrete logarithm exists when the input group element is not in the subgroup generated by the base, or if the function did not terminate within a reasonable timeframe), so we chain the intermediate results using the custom let binding `let*?`."
   ]
  },
  {
   "cell_type": "code",
   "execution_count": 17,
   "id": "f4fc0fae-0257-4b91-9d4f-2598f7561e9b",
   "metadata": {
    "vscode": {
     "languageId": "ocaml"
    }
   },
   "outputs": [
    {
     "data": {
      "text/plain": [
       "val ( let*? ) : 'a option -> ('a -> 'b option) -> 'b option = <fun>\n"
      ]
     },
     "execution_count": 17,
     "metadata": {},
     "output_type": "execute_result"
    },
    {
     "data": {
      "text/plain": [
       "val pohlig_hellman_prime_power_order :\n",
       "  mul:('a -> 'b -> 'c) ->\n",
       "  pow:('c -> Pari.Integer.t -> 'a) ->\n",
       "  dlp_solve_prime:(base:'a ->\n",
       "                   prime:Pari.Integer.t -> 'a -> Pari.Integer.t option) ->\n",
       "  base:'c ->\n",
       "  prime:Pari.Integer.t ->\n",
       "  base_order_factorization:(Pari.Integer.t * int) array ->\n",
       "  'b -> Pari.Integer.t option = <fun>\n"
      ]
     },
     "execution_count": 17,
     "metadata": {},
     "output_type": "execute_result"
    }
   ],
   "source": [
    "let ( let*? ) = Option.bind\n",
    "\n",
    "(** Solves the discrete log of h to the given base where the order of the group\n",
    "    is prime^valuation. *)\n",
    "let pohlig_hellman_prime_power_order ~mul ~pow ~dlp_solve_prime ~base\n",
    "    ~prime ~base_order_factorization h =\n",
    "  let prime_power (p, _) = Integer.equal p prime in\n",
    "  match Array.find_opt prime_power base_order_factorization with\n",
    "  | None -> Some (Integer.of_int 0)\n",
    "  | Some (prime, valuation) ->\n",
    "      let proj_base = pow base Integer.(pow prime (of_int (valuation - 1))) in\n",
    "      let f x k =\n",
    "        let*? x = x in\n",
    "        let*? log =\n",
    "          dlp_solve_prime ~base:proj_base ~prime\n",
    "            (pow\n",
    "               (mul (pow base (Integer.neg x)) h)\n",
    "               (Integer.pow prime (Integer.of_int (valuation - k - 1))))\n",
    "        in\n",
    "        Some Integer.(add x (mul (pow prime (of_int k)) log))\n",
    "      in\n",
    "      Iter.(fold f (Some (Integer.of_int 0)) (0 -- (valuation - 1)))"
   ]
  },
  {
   "cell_type": "markdown",
   "id": "5060fb27",
   "metadata": {},
   "source": [
    "OCaml inferred for us the signature of the function. Note that it is the most general type that could be given to this function satisfying the constraints from the function definition. In particular, it does not exclusively use PARI types (the generic types `'a`, `'b`, `'c` are used instead). Then comes the main routine:"
   ]
  },
  {
   "cell_type": "code",
   "execution_count": 18,
   "id": "cdbb8a39-fa3a-42b0-b517-f0019a6f9cd0",
   "metadata": {
    "vscode": {
     "languageId": "ocaml"
    }
   },
   "outputs": [
    {
     "data": {
      "text/plain": [
       "val pohlig_hellman :\n",
       "  order:(('a, 'b) Pari.typ -> Pari.Integer.t) ->\n",
       "  mul:(('a, 'b) Pari.typ -> ('a, 'b) Pari.typ -> ('a, 'b) Pari.typ) ->\n",
       "  pow:(('a, 'b) Pari.typ -> Pari.Integer.t -> ('a, 'b) Pari.typ) ->\n",
       "  dlp_solve_prime:(base:('a, 'b) Pari.typ ->\n",
       "                   prime:Pari.Integer.t ->\n",
       "                   ('a, 'b) Pari.typ -> Pari.Integer.t option) ->\n",
       "  base:('a, 'b) Pari.typ ->\n",
       "  group_order:(Pari.integer, Pari.unique_factorization_domain) Pari.typ ->\n",
       "  ('a, 'b) Pari.typ -> (Pari.integer, Pari.ring) Pari.typ option = <fun>\n"
      ]
     },
     "execution_count": 18,
     "metadata": {},
     "output_type": "execute_result"
    }
   ],
   "source": [
    "let pohlig_hellman ~order ~mul ~pow ~dlp_solve_prime ~base ~group_order h =\n",
    "  let f base_order_factorization (prime, valuation) =\n",
    "    let ord = Integer.(pow prime (of_int valuation)) in\n",
    "    let n = Integer.(divexact (to_integer group_order) ord) in\n",
    "    let*? intermediate_log =\n",
    "      pohlig_hellman_prime_power_order ~mul ~pow ~dlp_solve_prime\n",
    "        ~base:(pow base n) ~prime (pow h n)\n",
    "        ~base_order_factorization\n",
    "    in\n",
    "    Some (Integer_mod.create intermediate_log ~modulo:ord)\n",
    "  in\n",
    "  let main () =\n",
    "    if gequal (pow base (Integer.zero ())) h then Some (Integer.zero ())\n",
    "    else if gequal base h then Some (Integer.of_int 1)\n",
    "    (* If the order of [h] does not divide the order of the base, then\n",
    "       no log exists. It is a necessary but not a sufficient condition\n",
    "       for the existence of a log: h could be in a different subgroup\n",
    "       that has the same order as the one generated by base.  *)\n",
    "    else if (dvdii (order base) (order h) = 0) then None else\n",
    "    let factors = factor group_order in\n",
    "    let base_order = Integer.inj_unique_factorization_domain (order base) in\n",
    "    let logs = Array.map (f (factor base_order)) factors in\n",
    "    if Array.for_all Option.is_some logs then\n",
    "      let logs = Vector.of_array (Array.map Option.get logs) in\n",
    "      Some Integer_mod.(lift (chinese logs))\n",
    "    else None\n",
    "  in\n",
    "  with_stack_clean_opt main"
   ]
  },
  {
   "cell_type": "markdown",
   "id": "47cbe2e1",
   "metadata": {},
   "source": [
    "The `mul` function has a more restrictive type here `mul:('a -> 'a -> 'a)` than in `pohlig_Hellman_prime_power_order` where it is `mul:('a -> 'b -> 'c)`, which is expected. OCaml derived the valid type for this function for us!"
   ]
  },
  {
   "cell_type": "markdown",
   "id": "da9b1afa",
   "metadata": {},
   "source": [
    "## Pollard's Rho Algorithm\n",
    "\n",
    "The Pollard's Rho algorithm computes discrete logarithms in cyclic groups. It applies the [Floyd cycle-finding algorithm](https://en.wikipedia.org/wiki/Cycle_detection#Floyd's_tortoise_and_hare) and as such has a constant memory footprint. First, we need this auxiliary function to compute the discrete logarithm when a collision is detected between the \"tortoise\" and \"hare\" sequences:"
   ]
  },
  {
   "cell_type": "code",
   "execution_count": 19,
   "id": "844ddefc-03c2-44b9-a57d-92b7dafcd4d2",
   "metadata": {
    "vscode": {
     "languageId": "ocaml"
    }
   },
   "outputs": [
    {
     "data": {
      "text/plain": [
       "val find_solution :\n",
       "  Pari.Integer.t ->\n",
       "  Pari.Integer.t ->\n",
       "  group_order:Pari.Integer.t ->\n",
       "  base:'a ->\n",
       "  x:('b, 'c) Pari.typ ->\n",
       "  pow:('a -> Pari.Integer.t -> ('b, 'c) Pari.typ) -> Pari.Integer.t option =\n",
       "  <fun>\n"
      ]
     },
     "execution_count": 19,
     "metadata": {},
     "output_type": "execute_result"
    }
   ],
   "source": [
    "let[@inline] find_solution a b ~group_order ~base ~x ~pow =\n",
    "  (* solves for x the congruence a * x = b mod n *)\n",
    "  let[@inline] solve_congruence a b ~group_order =\n",
    "    let gcd', s, _ = Integer.gcdext a group_order in\n",
    "    if Integer.(equal (modulo b gcd') (of_int 0)) then\n",
    "      let q = Integer.divexact b gcd' in\n",
    "      let r = Integer.divexact group_order gcd' in\n",
    "      let qs = Integer.Infix.(q * s) in\n",
    "      Some Iter.(map\n",
    "            (fun i -> Integer.(Infix.(qs + (of_int i * r))))\n",
    "            (* gcd' < group_order, and is assumed to fit in an OCaml integer *)\n",
    "            (0 -- (Integer.to_int gcd' - 1)))\n",
    "    else None\n",
    "  in\n",
    "  let*? candidates = solve_congruence a b ~group_order in\n",
    "  let is_solution n = if gequal (pow base n) x then Some n else None in\n",
    "  let*? solution = Iter.find is_solution candidates in\n",
    "  Some (Integer.modulo solution group_order)"
   ]
  },
  {
   "cell_type": "markdown",
   "id": "031cbac2",
   "metadata": {},
   "source": [
    "For better performance, the PARI library allocates most of the time data on a stack instead of a heap. Therefore, we must manually clean the stack when some variables aren't needed. This can be achieved by wrapping a computed value `v : ('kind, 'structure) Pari.typ` in anonymous functions `fun () -> v` that are passed to `with_stack_clean*` functions. Once a function from the `with_stack_clean*` family terminates, all temporary values allocated by the anonymous function are deallocated and the result of the computation `v` is returned. Warning! OCaml supports strict evaluation by default, so one has to put the actual computation (chain of `let` bindings) inside the closure `fun () -> ...`! "
   ]
  },
  {
   "cell_type": "code",
   "execution_count": 20,
   "id": "712fc7ca-f1e9-48f1-892c-636a8387c111",
   "metadata": {
    "vscode": {
     "languageId": "ocaml"
    }
   },
   "outputs": [
    {
     "data": {
      "text/plain": [
       "val rho_pollard :\n",
       "  one:('a, 'b) Pari.typ ->\n",
       "  mul:(('a, 'b) Pari.typ -> ('a, 'b) Pari.typ -> ('a, 'b) Pari.typ) ->\n",
       "  pow:(('a, 'b) Pari.typ -> Pari.Integer.t -> ('a, 'b) Pari.typ) ->\n",
       "  ?start:('a, 'b) Pari.typ * Pari.Integer.t * Pari.Integer.t *\n",
       "         ('a, 'b) Pari.typ * Pari.Integer.t * Pari.Integer.t ->\n",
       "  class_x:(('a, 'b) Pari.typ -> int) ->\n",
       "  group_order:Pari.Integer.t ->\n",
       "  base:('a, 'b) Pari.typ ->\n",
       "  ('a, 'b) Pari.typ -> (Pari.integer, Pari.ring) Pari.typ option = <fun>\n"
      ]
     },
     "execution_count": 20,
     "metadata": {},
     "output_type": "execute_result"
    }
   ],
   "source": [
    "let rho_pollard ~one ~mul ~pow ?start ~class_x ~group_order ~base x =\n",
    "  let[@inline] f y =\n",
    "    match class_x y with 1 -> mul base y | 0 -> mul y y | _ -> mul x y\n",
    "  in\n",
    "  with_stack_clean_opt (fun () ->\n",
    "  let[@inline] g x k =\n",
    "    Integer.(Infix.(match class_x x with\n",
    "                    | 0 -> of_int 2 * k mod group_order\n",
    "                    | 1 -> (k + of_int 1) mod group_order\n",
    "                    | _ -> k))\n",
    "  in\n",
    "  let[@inline] h x k =\n",
    "    Integer.(Infix.(match class_x x with\n",
    "                  | 0 -> of_int 2 * k mod group_order\n",
    "                  | 1 -> k\n",
    "                  | _ -> (k + of_int 1) mod group_order))\n",
    "  in\n",
    "  let rec loop (x_k, a_k, b_k, x_2k, a_2k, b_2k) =\n",
    "    let x_k, a_k, b_k, x_2k, a_2k, b_2k =\n",
    "      (* if the loop is very long the PARI stack must be\n",
    "          cleaned to keep here the constant memory footprint *)\n",
    "      with_stack_clean6 (fun () ->\n",
    "          ( f x_k,\n",
    "            g x_k a_k,\n",
    "            h x_k b_k,\n",
    "            f (f x_2k),\n",
    "            g (f x_2k) (g x_2k a_2k),\n",
    "            h (f x_2k) (h x_2k b_2k) ))\n",
    "    in\n",
    "    if gequal x_k x_2k then\n",
    "      Integer.Infix.(\n",
    "        find_solution (b_2k - b_k) (a_k - a_2k) ~group_order ~base ~x ~pow)\n",
    "    else loop (x_k, a_k, b_k, x_2k, a_2k, b_2k)\n",
    "  in\n",
    "  match start with\n",
    "  | Some s -> loop s\n",
    "  | None ->\n",
    "      let a, b = Integer.(of_int 0, of_int 0) in\n",
    "      loop (one, a, b, one, a, b))"
   ]
  },
  {
   "cell_type": "markdown",
   "id": "cb9765c8",
   "metadata": {},
   "source": [
    "The function `gequal` is generic in that it works with any PARI values _of the same subtype_ given by the phantom type parameter `('kind, 'structure)`:"
   ]
  },
  {
   "cell_type": "code",
   "execution_count": 21,
   "id": "c9c2b212",
   "metadata": {
    "vscode": {
     "languageId": "ocaml"
    }
   },
   "outputs": [
    {
     "data": {
      "text/plain": [
       "- : ('kind, 'structure) Pari.typ -> ('kind, 'structure) Pari.typ -> bool =\n",
       "<fun>\n"
      ]
     },
     "execution_count": 21,
     "metadata": {},
     "output_type": "execute_result"
    }
   ],
   "source": [
    "gequal"
   ]
  },
  {
   "cell_type": "markdown",
   "id": "8b988ca2",
   "metadata": {},
   "source": [
    "This helper function retries Pollard's Rho with different starting values:"
   ]
  },
  {
   "cell_type": "code",
   "execution_count": 22,
   "id": "4310a049-26f1-453b-b363-82a3a163a011",
   "metadata": {
    "vscode": {
     "languageId": "ocaml"
    }
   },
   "outputs": [
    {
     "data": {
      "text/plain": [
       "val rho_pollard_with_retries :\n",
       "  one:('a, 'b) Pari.typ ->\n",
       "  mul:(('a, 'b) Pari.typ -> ('a, 'b) Pari.typ -> ('a, 'b) Pari.typ) ->\n",
       "  pow:(('a, 'b) Pari.typ -> Pari.Integer.t -> ('a, 'b) Pari.typ) ->\n",
       "  class_x:(('a, 'b) Pari.typ -> int) ->\n",
       "  group_order:Pari.Integer.t ->\n",
       "  base:('a, 'b) Pari.typ ->\n",
       "  ('a, 'b) Pari.typ -> (Pari.integer, Pari.ring) Pari.typ option = <fun>\n"
      ]
     },
     "execution_count": 22,
     "metadata": {},
     "output_type": "execute_result"
    }
   ],
   "source": [
    "let rho_pollard_with_retries ~one ~mul ~pow ~class_x ~group_order ~base h =\n",
    "  let f ?start () =\n",
    "    rho_pollard ?start ~one ~mul ~pow ~class_x ~group_order ~base h\n",
    "  in\n",
    "  let start ord =\n",
    "    let a_k = Integer.random ord in\n",
    "    let b_k = Integer.random ord in\n",
    "    let x_k = mul (pow base a_k) (pow h b_k) in\n",
    "    (x_k, a_k, b_k, x_k, a_k, b_k)\n",
    "  in\n",
    "  let rec loop () =\n",
    "    match f ~start:(start group_order) () with\n",
    "    | Some res -> Some res\n",
    "    | None -> loop ()\n",
    "  in\n",
    "  match f () with Some res -> Some res | None -> loop ()"
   ]
  },
  {
   "cell_type": "markdown",
   "id": "31662dda",
   "metadata": {},
   "source": [
    "# Testing Instantiations of the Discrete Log Solver\n",
    "\n",
    "## Instantiating over $\\mathbf{F}_p^\\times$\n",
    "\n",
    "We now specialize the pohlig_hellman function to work with prime field elements (for small discrete log instances, we use the `Integer_mod.log` function):"
   ]
  },
  {
   "cell_type": "code",
   "execution_count": 23,
   "id": "a81a2582",
   "metadata": {
    "vscode": {
     "languageId": "ocaml"
    }
   },
   "outputs": [
    {
     "data": {
      "text/plain": [
       "val zn_dlog :\n",
       "  base:(Pari.integer_mod, 'a) Pari.typ ->\n",
       "  (Pari.integer_mod, 'a) Pari.typ ->\n",
       "  (Pari.integer, Pari.ring) Pari.typ option = <fun>\n"
      ]
     },
     "execution_count": 23,
     "metadata": {},
     "output_type": "execute_result"
    }
   ],
   "source": [
    "let zn_dlog ~base x =\n",
    "  with_stack_clean_opt (fun () ->\n",
    "    let modulo = Integer_mod.get_modulo base in\n",
    "    let group_order = Integer.inj_unique_factorization_domain (eulerphi modulo) in\n",
    "    let class_x x = Integer.(to_int (modulo (Integer_mod.lift x) (of_int 3))) in\n",
    "    let mul = Integer_mod.mul in\n",
    "    let pow = Integer_mod.pow in\n",
    "    let dlp_solve_prime ~base ~prime =\n",
    "      if cmpii prime (Integer.of_int 20) > 0 then\n",
    "        rho_pollard_with_retries ~one:base ~mul ~pow ~class_x ~group_order:prime\n",
    "          ~base\n",
    "      else Integer_mod.log ~base\n",
    "    in\n",
    "    let*? x =\n",
    "      pohlig_hellman ~order:Integer_mod.order ~pow ~mul ~dlp_solve_prime ~base\n",
    "        ~group_order x\n",
    "    in\n",
    "    Some (Integer.modulo x Integer_mod.(order base)))"
   ]
  },
  {
   "cell_type": "markdown",
   "id": "d79032ef",
   "metadata": {},
   "source": [
    "## Instantiating over $E(\\mathbf{F})$\n",
    "\n",
    "And here is the specialized code for elliptic curves. Not necessarily defined over finite fields, as evidenced by the function's type `ell:('a, field) typ Elliptic_curve.t ->\n",
    "base:('a, field) typ Elliptic_curve.elt ->\n",
    "('a, field) typ Elliptic_curve.elt ->\n",
    "(integer, ring) typ option`. However, such generality is not needed here as the algorithms from this blog post require finite and cyclic groups, which we could reflect in the signature."
   ]
  },
  {
   "cell_type": "code",
   "execution_count": 24,
   "id": "a8609d1e",
   "metadata": {
    "vscode": {
     "languageId": "ocaml"
    }
   },
   "outputs": [
    {
     "data": {
      "text/plain": [
       "val ell_solve_dlog :\n",
       "  ell:('a, Pari.field) Pari.typ Pari.Elliptic_curve.t ->\n",
       "  base:('a, Pari.field) Pari.typ Pari.Elliptic_curve.elt ->\n",
       "  ('a, Pari.field) Pari.typ Pari.Elliptic_curve.elt ->\n",
       "  (Pari.integer, Pari.ring) Pari.typ option = <fun>\n"
      ]
     },
     "execution_count": 24,
     "metadata": {},
     "output_type": "execute_result"
    }
   ],
   "source": [
    "let ell_solve_dlog ~ell ~base x =\n",
    "  with_stack_clean_opt (fun () ->\n",
    "      let class_x x =\n",
    "        let h =\n",
    "          Integer.of_hex\n",
    "            (Hex.of_bytes (Hacl_star.Hacl.SHA3_512.hash (gentobytes x)))\n",
    "        in\n",
    "        Integer.(to_int (modulo h (of_int 3)))\n",
    "      in\n",
    "      let group_order =\n",
    "        Integer.inj_unique_factorization_domain\n",
    "          (Elliptic_curve.order_elt ell base)\n",
    "      in\n",
    "      let mul = Elliptic_curve.add ell in\n",
    "      let pow p n = Elliptic_curve.mul ell ~n ~p in\n",
    "      pohlig_hellman\n",
    "        ~order:(Elliptic_curve.order_elt ell)\n",
    "        ~pow ~mul\n",
    "        ~dlp_solve_prime:(fun ~base ~prime ->\n",
    "          rho_pollard_with_retries ~one:base ~mul ~pow ~class_x\n",
    "            ~group_order:prime ~base)\n",
    "        ~base ~group_order x)"
   ]
  },
  {
   "cell_type": "markdown",
   "id": "dda6ceb1",
   "metadata": {},
   "source": [
    "## Property-Based Tests\n",
    "\n",
    "You can refer to QCheck's [documentation](https://c-cube.github.io/qcheck/0.21/qcheck-core/QCheck2/index.html) to understand the tests from this section. We define first generators for the values at hand, and printers to show the values for which the test fails:"
   ]
  },
  {
   "cell_type": "code",
   "execution_count": 25,
   "id": "01d876e3",
   "metadata": {
    "vscode": {
     "languageId": "ocaml"
    }
   },
   "outputs": [
    {
     "data": {
      "text/plain": [
       "val option_eq :\n",
       "  ('_weak6, '_weak7) Pari.typ option ->\n",
       "  ('_weak6, '_weak7) Pari.typ option -> bool = <fun>\n"
      ]
     },
     "execution_count": 25,
     "metadata": {},
     "output_type": "execute_result"
    },
    {
     "data": {
      "text/plain": [
       "val random_int : int -> int QCheck2.Gen.t = <fun>\n"
      ]
     },
     "execution_count": 25,
     "metadata": {},
     "output_type": "execute_result"
    },
    {
     "data": {
      "text/plain": [
       "val random_integer : Pari.Integer.t -> Pari.Integer.t QCheck2.Gen.t = <fun>\n"
      ]
     },
     "execution_count": 25,
     "metadata": {},
     "output_type": "execute_result"
    },
    {
     "data": {
      "text/plain": [
       "val random_prime : Pari.Integer.t QCheck2.Gen.t = <abstr>\n"
      ]
     },
     "execution_count": 25,
     "metadata": {},
     "output_type": "execute_result"
    },
    {
     "data": {
      "text/plain": [
       "val random_znelt :\n",
       "  Pari.Integer.t -> (Pari.integer_mod, Pari.group) Pari.typ QCheck2.Gen.t =\n",
       "  <fun>\n"
      ]
     },
     "execution_count": 25,
     "metadata": {},
     "output_type": "execute_result"
    },
    {
     "data": {
      "text/plain": [
       "val random_znlog_instance :\n",
       "  ((Pari.integer_mod, Pari.group) Pari.typ *\n",
       "   (Pari.integer_mod, Pari.group) Pari.typ)\n",
       "  QCheck2.Gen.t = <abstr>\n"
      ]
     },
     "execution_count": 25,
     "metadata": {},
     "output_type": "execute_result"
    },
    {
     "data": {
      "text/plain": [
       "val print_random_znlog_instance :\n",
       "  ((Pari.integer_mod, '_weak8) Pari.typ *\n",
       "   (Pari.integer_mod, '_weak9) Pari.typ)\n",
       "  QCheck2.Print.t = <fun>\n"
      ]
     },
     "execution_count": 25,
     "metadata": {},
     "output_type": "execute_result"
    },
    {
     "data": {
      "text/plain": [
       "val random_ell_elt :\n",
       "  ('a, Pari.field) Pari.typ Pari.Elliptic_curve.t ->\n",
       "  base:('a, Pari.field) Pari.typ Pari.Elliptic_curve.elt ->\n",
       "  order:int ->\n",
       "  ('a, Pari.field) Pari.typ Pari.Elliptic_curve.elt QCheck2.Gen.t = <fun>\n"
      ]
     },
     "execution_count": 25,
     "metadata": {},
     "output_type": "execute_result"
    },
    {
     "data": {
      "text/plain": [
       "val random_ell :\n",
       "  (Pari.integer_mod, Pari.field) Pari.typ Pari.Elliptic_curve.t QCheck2.Gen.t =\n",
       "  <abstr>\n"
      ]
     },
     "execution_count": 25,
     "metadata": {},
     "output_type": "execute_result"
    },
    {
     "data": {
      "text/plain": [
       "val random_elldlog_instance :\n",
       "  ((Pari.integer_mod, Pari.field) Pari.typ Pari.Elliptic_curve.t *\n",
       "   (Pari.integer_mod, Pari.field) Pari.typ Pari.Elliptic_curve.elt *\n",
       "   (Pari.integer_mod, Pari.field) Pari.typ Pari.Elliptic_curve.elt)\n",
       "  QCheck2.Gen.t = <abstr>\n"
      ]
     },
     "execution_count": 25,
     "metadata": {},
     "output_type": "execute_result"
    },
    {
     "data": {
      "text/plain": [
       "val print_random_elldlog_instance :\n",
       "  (('_weak10, Pari.field) Pari.typ Pari.Elliptic_curve.t *\n",
       "   ('a, Pari.field) Pari.typ Pari.Elliptic_curve.elt *\n",
       "   ('b, Pari.field) Pari.typ Pari.Elliptic_curve.elt)\n",
       "  QCheck2.Print.t = <fun>\n"
      ]
     },
     "execution_count": 25,
     "metadata": {},
     "output_type": "execute_result"
    }
   ],
   "source": [
    "let option_eq = Option.equal gequal\n",
    "\n",
    "let random_int bound = QCheck2.Gen.(1 -- (bound - 1))\n",
    "\n",
    "let random_integer bound =\n",
    "  let open QCheck2.Gen in\n",
    "  let+ n = random_int (Integer.to_int bound) in\n",
    "  Integer.of_int n\n",
    "\n",
    "let random_prime =\n",
    "  let open QCheck2.Gen in\n",
    "  let* bits_amount = QCheck2.Gen.(9 -- 10) in\n",
    "  let+ res = return (Integer.random_prime ~bits_amount) in\n",
    "  if gequal res (Integer.of_int 2) then Integer.of_int 3 else res\n",
    "\n",
    "let random_znelt modulo =\n",
    "  let open QCheck2.Gen in\n",
    "  let* x = random_integer modulo in\n",
    "  return Integer_mod.(inj_group (create x ~modulo))\n",
    "\n",
    "let random_znlog_instance =\n",
    "  let open QCheck2.Gen in\n",
    "  let* modulo = random_prime in\n",
    "  let base = Integer_mod.(inj_group (create (Integer.of_int 2) ~modulo)) in\n",
    "  let* x = random_znelt modulo in\n",
    "  return (base, x)\n",
    "\n",
    "let print_random_znlog_instance =\n",
    "  QCheck2.Print.(\n",
    "    comap\n",
    "      (fun (base, x) -> (Integer_mod.to_string base, Integer_mod.to_string x))\n",
    "      (tup2 string string))\n",
    "\n",
    "let random_ell_elt ell ~base ~order =\n",
    "  let open QCheck2.Gen in\n",
    "  let* n = random_int order in\n",
    "  return (Elliptic_curve.mul ell ~p:base ~n:(Integer.of_int n))\n",
    "\n",
    "let random_ell =\n",
    "  let open QCheck2.Gen in\n",
    "  let* p = random_prime in\n",
    "  let* x = random_integer p in\n",
    "  let rec loop () =\n",
    "    let* y = random_integer p in\n",
    "    match\n",
    "      Elliptic_curve.create\n",
    "        ~a4:(Integer_mod.create_assume_prime_modulus x ~modulo:p)\n",
    "        ~a6:(Integer_mod.create_assume_prime_modulus y ~modulo:p)\n",
    "        ()\n",
    "    with\n",
    "    | Some ell ->\n",
    "        let order = Elliptic_curve.order ell in\n",
    "        if gequal order (Integer.of_int 1) then loop () else return ell\n",
    "    | None -> loop ()\n",
    "  in\n",
    "  loop ()\n",
    "\n",
    "let random_elldlog_instance =\n",
    "  let open QCheck2.Gen in\n",
    "  let* ell = random_ell in\n",
    "  let order = Integer.to_int (Elliptic_curve.order ell) in\n",
    "  let base = Elliptic_curve.random ell in\n",
    "  let* x = random_ell_elt ell ~base ~order in\n",
    "  return (ell, base, x)\n",
    "\n",
    "let print_random_elldlog_instance =\n",
    "  QCheck2.Print.(\n",
    "    comap\n",
    "      (fun (ell, base, x) ->\n",
    "        ( Elliptic_curve.to_string ell,\n",
    "          Elliptic_curve.to_string_elt base,\n",
    "          Elliptic_curve.to_string_elt x ))\n",
    "      (tup3 string string string))"
   ]
  },
  {
   "cell_type": "markdown",
   "id": "0585743b",
   "metadata": {},
   "source": [
    "And finally the property to be tested, we compare the result against the one from the `Integer_mod.log` function provided by PARI:"
   ]
  },
  {
   "cell_type": "code",
   "execution_count": 26,
   "id": "77b3bdbe",
   "metadata": {
    "vscode": {
     "languageId": "ocaml"
    }
   },
   "outputs": [
    {
     "data": {
      "text/plain": [
       "val zn_dlog_test : QCheck2.Test.t = QCheck2.Test.Test <abstr>\n"
      ]
     },
     "execution_count": 26,
     "metadata": {},
     "output_type": "execute_result"
    },
    {
     "data": {
      "text/plain": [
       "val ell_dlog_test : QCheck2.Test.t = QCheck2.Test.Test <abstr>\n"
      ]
     },
     "execution_count": 26,
     "metadata": {},
     "output_type": "execute_result"
    },
    {
     "name": "stdout",
     "output_type": "stream",
     "text": [
      "generated error  fail  pass / total     time test name\n",
      "[\u001b[32;1m✓\u001b[0m] 10000     0     0 10000 / 10000     3.3s zn_dlogg)\u001b[2K\n",
      "[\u001b[32;1m✓\u001b[0m]  5000     0     0  5000 /  5000    16.9s ell_dlogg)\u001b[2K\n",
      "================================================================================\n",
      "\u001b[32;1msuccess\u001b[0m (ran 2 tests)\n"
     ]
    }
   ],
   "source": [
    "let zn_dlog_test =\n",
    "  QCheck2.Test.make ~count:10000 ~name:\"zn_dlog\"\n",
    "    ~print:print_random_znlog_instance random_znlog_instance\n",
    "    (fun (base, x) ->\n",
    "      let log' = Integer_mod.log ~base x in\n",
    "      let log = zn_dlog ~base x in\n",
    "      option_eq log log')\n",
    "\n",
    "let ell_dlog_test =\n",
    "  QCheck2.Test.make ~count:5000 ~name:\"ell_dlog\"\n",
    "    ~print:print_random_elldlog_instance random_elldlog_instance\n",
    "    (fun (ell, base, x) ->\n",
    "      let log' = Elliptic_curve.log ell ~base x in\n",
    "      let log = ell_solve_dlog ~ell ~base x in\n",
    "      option_eq log log')\n",
    "\n",
    "let () = clean_stack (fun () ->\n",
    "  QCheck_runner.run_tests ~verbose:true [ zn_dlog_test; ell_dlog_test ])"
   ]
  },
  {
   "cell_type": "markdown",
   "id": "1950084d",
   "metadata": {},
   "source": [
    "All this could be achieved with the GP scripting language or Python, as they both support higher-order functions. Python even has property-based testing libraries. What sets OCaml apart is its advanced type system: phantom type parameters allow for genericity and a form of subtyping, static types document functions and provide usage hints, type inference can guide the programmer in the writing of functions."
   ]
  }
 ],
 "metadata": {
  "kernelspec": {
   "display_name": "OCaml 4.14.0",
   "language": "OCaml",
   "name": "ocaml-jupyter"
  },
  "language_info": {
   "codemirror_mode": "text/x-ocaml",
   "file_extension": ".ml",
   "mimetype": "text/x-ocaml",
   "name": "OCaml",
   "nbconverter_exporter": null,
   "pygments_lexer": "OCaml",
   "version": "4.14.0"
  }
 },
 "nbformat": 4,
 "nbformat_minor": 5
}
